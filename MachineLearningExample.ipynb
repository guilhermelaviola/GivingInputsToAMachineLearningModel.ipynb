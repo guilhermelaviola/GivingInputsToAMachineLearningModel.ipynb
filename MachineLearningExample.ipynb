{
  "nbformat": 4,
  "nbformat_minor": 0,
  "metadata": {
    "colab": {
      "provenance": [],
      "authorship_tag": "ABX9TyPZrOLWQ6hrVR5yf6aU54Gn",
      "include_colab_link": true
    },
    "kernelspec": {
      "name": "python3",
      "display_name": "Python 3"
    },
    "language_info": {
      "name": "python"
    }
  },
  "cells": [
    {
      "cell_type": "markdown",
      "metadata": {
        "id": "view-in-github",
        "colab_type": "text"
      },
      "source": [
        "<a href=\"https://colab.research.google.com/github/guilhermelaviola/MachineLearningExamples/blob/main/MachineLearningExample.ipynb\" target=\"_parent\"><img src=\"https://colab.research.google.com/assets/colab-badge.svg\" alt=\"Open In Colab\"/></a>"
      ]
    },
    {
      "cell_type": "code",
      "execution_count": null,
      "metadata": {
        "id": "gG2PcgTFp4Xr"
      },
      "outputs": [],
      "source": [
        "# Importing all the necessary libraries:\n",
        "import numpy as np\n",
        "import pandas as pd\n",
        "import matplotlib.pyplot as plt\n",
        "import seaborn as sns\n",
        "%matplotlib inline"
      ]
    },
    {
      "cell_type": "code",
      "source": [
        "# Importing the dataset:\n",
        "data_train = pd.read_csv('train.csv')\n",
        "data_test = pd.read_csv('test.csv')"
      ],
      "metadata": {
        "id": "Klaa-hBhp8fR"
      },
      "execution_count": null,
      "outputs": []
    },
    {
      "cell_type": "code",
      "source": [
        "# Visualizing the data:\n",
        "sns.barplot(x = 'Embarked', y = 'Survived', hue = 'Sex', data = data_train)\n",
        "plt.show()"
      ],
      "metadata": {
        "id": "lilv9EL1qIWu"
      },
      "execution_count": null,
      "outputs": []
    },
    {
      "cell_type": "code",
      "source": [
        "# Cleaning/transforming the data:\n",
        "def simplify_ages(df):\n",
        "  df.Age = df.Age.fillna(-0.5)\n",
        "  bins = (-1, 0, 5, 12, 18, 25, 35, 60, 120)\n",
        "  group_names = ['Unknown', 'Baby', 'Child', 'Teenager', 'Student', 'Young Adult', 'Adult', 'Senior']\n",
        "  categories = pd.cut(df.Age, bins, labels = group_names)\n",
        "  df.Age = categories\n",
        "  return df"
      ],
      "metadata": {
        "id": "Db_I7AdvqMhS"
      },
      "execution_count": null,
      "outputs": []
    },
    {
      "cell_type": "code",
      "source": [
        "def simplify_cabins(df):\n",
        "  df.Cabin = df.Cabin.fillna('N')\n",
        "  df.Cabin = df.Cabin.apply(lambda x : x[0])\n",
        "  return df"
      ],
      "metadata": {
        "id": "_WKktcHjr9d7"
      },
      "execution_count": null,
      "outputs": []
    },
    {
      "cell_type": "code",
      "source": [
        "def simplify_fares(df):\n",
        "  df.Fare = df.Fare.fillna(-0.5)\n",
        "  bins = (-1, 0, 8, 15, 31, 1000)\n",
        "  group_names = ['Unknown', '1_quartile', '2_quartile', '3_quartile', '4_quartile']\n",
        "  categories = pd.cut(df.Fare, bins, labels = group_names)\n",
        "  df.Fare = categories\n",
        "  return df"
      ],
      "metadata": {
        "id": "x1QpDu-9sp5X"
      },
      "execution_count": null,
      "outputs": []
    },
    {
      "cell_type": "code",
      "source": [
        "# Encoding the data:"
      ],
      "metadata": {
        "id": "-0reenibqPSt"
      },
      "execution_count": null,
      "outputs": []
    },
    {
      "cell_type": "code",
      "source": [
        "# Splitting the data into Training and Test sets:"
      ],
      "metadata": {
        "id": "cT6yn2wqqRTw"
      },
      "execution_count": null,
      "outputs": []
    },
    {
      "cell_type": "code",
      "source": [
        "# Fine tuning algorithms:"
      ],
      "metadata": {
        "id": "_RNCJqyAqWTD"
      },
      "execution_count": null,
      "outputs": []
    },
    {
      "cell_type": "code",
      "source": [
        "# Cross validating with KFold:"
      ],
      "metadata": {
        "id": "yfNJruVZqY2Z"
      },
      "execution_count": null,
      "outputs": []
    },
    {
      "cell_type": "code",
      "source": [
        "# Prediction on the test set:"
      ],
      "metadata": {
        "id": "cRKOX--IqctH"
      },
      "execution_count": null,
      "outputs": []
    }
  ]
}