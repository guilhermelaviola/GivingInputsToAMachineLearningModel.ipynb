{
  "nbformat": 4,
  "nbformat_minor": 0,
  "metadata": {
    "colab": {
      "provenance": [],
      "authorship_tag": "ABX9TyO1X/uk9ZCjy5i/tjMyICrU",
      "include_colab_link": true
    },
    "kernelspec": {
      "name": "python3",
      "display_name": "Python 3"
    },
    "language_info": {
      "name": "python"
    }
  },
  "cells": [
    {
      "cell_type": "markdown",
      "metadata": {
        "id": "view-in-github",
        "colab_type": "text"
      },
      "source": [
        "<a href=\"https://colab.research.google.com/github/guilhermelaviola/GivingInputsToAMachineLearningModel.ipynb/blob/main/SaveAMachineLearningModel.ipynb\" target=\"_parent\"><img src=\"https://colab.research.google.com/assets/colab-badge.svg\" alt=\"Open In Colab\"/></a>"
      ]
    },
    {
      "cell_type": "markdown",
      "source": [
        "After training a Machine Learning model, we don't have to throw the model away: we can save it for it to be used again in the future to be tested on a new dataset to have its performance compared with other models.\n",
        "\n",
        "The steps for saving a machine learning model are the following:\n",
        "1. First train a model\n",
        "2. Then convert it into a byte stream\n",
        "3. Save the byte stream as a binary file\n",
        "\n"
      ],
      "metadata": {
        "id": "Wk4uQmroOuV5"
      }
    },
    {
      "cell_type": "code",
      "execution_count": 2,
      "metadata": {
        "id": "ACQY7zimOji-"
      },
      "outputs": [],
      "source": [
        "# Importing all the necessary libraries:\n",
        "import numpy as np\n",
        "import pandas as pd\n",
        "from sklearn.linear_model import LinearRegression\n",
        "from sklearn.utils import shuffle\n",
        "from sklearn.model_selection import train_test_split\n",
        "import pickle"
      ]
    },
    {
      "cell_type": "code",
      "source": [
        "# Importing the dataset:\n",
        "data = pd.read_csv('')"
      ],
      "metadata": {
        "id": "uzUkGhZVPvkQ"
      },
      "execution_count": null,
      "outputs": []
    },
    {
      "cell_type": "code",
      "source": [
        "data = data[['G1', 'G2', 'G3', 'studytime', 'failures', 'absences']]\n",
        "\n",
        "predict = 'G3'\n",
        "x = np.array(data.drop([predict], 1))\n",
        "y = np.array(data[predict])"
      ],
      "metadata": {
        "id": "auzpw3SCQHg0"
      },
      "execution_count": null,
      "outputs": []
    },
    {
      "cell_type": "code",
      "source": [
        "x_train, x_test, y_train, y_test = train_test_split(x, y, test_size = 0.2)"
      ],
      "metadata": {
        "id": "iD4ge2qOQdW8"
      },
      "execution_count": null,
      "outputs": []
    },
    {
      "cell_type": "code",
      "source": [
        "linear_regression = LinearRegression()\n",
        "linear_regression.fit(x_train, y_train)"
      ],
      "metadata": {
        "id": "52LGyq4WQtvM"
      },
      "execution_count": null,
      "outputs": []
    },
    {
      "cell_type": "code",
      "source": [
        "with open('pickle_model', 'wb') as file:\n",
        "  pickle.dump(linear_regression, file)"
      ],
      "metadata": {
        "id": "LKMQN7jIQ2sO"
      },
      "execution_count": null,
      "outputs": []
    },
    {
      "cell_type": "code",
      "source": [
        "with open('pickle_model', 'rb') as file:\n",
        "  model = pickle.load(file)"
      ],
      "metadata": {
        "id": "KIEfcG0XREm6"
      },
      "execution_count": null,
      "outputs": []
    },
    {
      "cell_type": "code",
      "source": [
        "predictions = model.predict(x_test)"
      ],
      "metadata": {
        "id": "9WrUdsekRRHC"
      },
      "execution_count": null,
      "outputs": []
    },
    {
      "cell_type": "code",
      "source": [
        "for i in range(len(predictions)):\n",
        "  print(predictions[x], x_test[x], [y_test[x]])"
      ],
      "metadata": {
        "id": "0TPYxUJTRVO-"
      },
      "execution_count": null,
      "outputs": []
    }
  ]
}